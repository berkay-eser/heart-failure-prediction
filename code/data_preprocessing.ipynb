{
 "cells": [
  {
   "cell_type": "markdown",
   "metadata": {},
   "source": [
    "# 1. Set Up"
   ]
  },
  {
   "cell_type": "markdown",
   "metadata": {},
   "source": [
    "### 1.1 Import Libraries"
   ]
  },
  {
   "cell_type": "code",
   "execution_count": 63,
   "metadata": {},
   "outputs": [],
   "source": [
    "import pandas as pd\n",
    "import numpy as np\n",
    "\n",
    "from sklearn.impute import KNNImputer\n",
    "from sklearn.preprocessing import OneHotEncoder, StandardScaler\n",
    "from sklearn.compose import make_column_transformer\n",
    "from sklearn.model_selection import train_test_split"
   ]
  },
  {
   "cell_type": "markdown",
   "metadata": {},
   "source": [
    "### 1.2 Import Dataset"
   ]
  },
  {
   "cell_type": "code",
   "execution_count": 35,
   "metadata": {},
   "outputs": [],
   "source": [
    "df = pd.read_csv('../data/heart.csv')"
   ]
  },
  {
   "cell_type": "markdown",
   "metadata": {},
   "source": [
    "### 1.3 Summary of Dataset"
   ]
  },
  {
   "cell_type": "code",
   "execution_count": 36,
   "metadata": {},
   "outputs": [],
   "source": [
    "def create_summary_df(dataframe):\n",
    "    num_samples = 5\n",
    "    summary_data = []\n",
    "\n",
    "    for column in dataframe.columns:\n",
    "        null_count = dataframe[column].isnull().sum()\n",
    "        unique_count = dataframe[column].nunique()\n",
    "        data_type = dataframe[column].dtype\n",
    "        min_value = dataframe[column].min() if pd.api.types.is_numeric_dtype(data_type) else None\n",
    "        q25 = dataframe[column].quantile(0.25) if pd.api.types.is_numeric_dtype(data_type) else None\n",
    "        q50 = dataframe[column].quantile(0.50) if pd.api.types.is_numeric_dtype(data_type) else None\n",
    "        q75 = dataframe[column].quantile(0.75) if pd.api.types.is_numeric_dtype(data_type) else None\n",
    "        max_value = dataframe[column].max() if pd.api.types.is_numeric_dtype(data_type) else None\n",
    "        mean = dataframe[column].mean() if pd.api.types.is_numeric_dtype(data_type) else None\n",
    "        std_dev = dataframe[column].std() if pd.api.types.is_numeric_dtype(data_type) else None\n",
    "        top_value = dataframe[column].mode()[0] if pd.api.types.is_object_dtype(data_type) else None\n",
    "        top_value_freq = dataframe[column].value_counts().max() if pd.api.types.is_object_dtype(data_type) else None\n",
    "        sample_values = df[column].sample(num_samples).tolist()\n",
    "        \n",
    "        summary_data.append([column, null_count, unique_count, data_type, min_value, q25, q50, q75, max_value, mean, std_dev, top_value, top_value_freq, sample_values])\n",
    "\n",
    "    summary_df = pd.DataFrame(summary_data, columns=['Column', 'Missing Values', 'Unique Count', 'Data Type', 'Min Value','%25','Median','%75',\n",
    "                                                    'Max Value', 'Mean', 'Std Dev', 'Top Value', 'Top Value Frequency', 'Sample Values'])\n",
    "    \n",
    "    return summary_df\n",
    "\n",
    "def shape_of_df(dataframe):\n",
    "    print(f'Shape of the dataset: {dataframe.shape}')\n",
    "\n",
    "def sum_of_duplicate(dataframe):\n",
    "    print(f'Sum of duplicated rows: {dataframe.duplicated().sum()}')"
   ]
  },
  {
   "cell_type": "code",
   "execution_count": 37,
   "metadata": {},
   "outputs": [
    {
     "name": "stdout",
     "output_type": "stream",
     "text": [
      "Shape of the dataset: (918, 12)\n",
      "Sum of duplicated rows: 0\n"
     ]
    },
    {
     "data": {
      "text/html": [
       "<div>\n",
       "<style scoped>\n",
       "    .dataframe tbody tr th:only-of-type {\n",
       "        vertical-align: middle;\n",
       "    }\n",
       "\n",
       "    .dataframe tbody tr th {\n",
       "        vertical-align: top;\n",
       "    }\n",
       "\n",
       "    .dataframe thead th {\n",
       "        text-align: right;\n",
       "    }\n",
       "</style>\n",
       "<table border=\"1\" class=\"dataframe\">\n",
       "  <thead>\n",
       "    <tr style=\"text-align: right;\">\n",
       "      <th></th>\n",
       "      <th>Column</th>\n",
       "      <th>Missing Values</th>\n",
       "      <th>Unique Count</th>\n",
       "      <th>Data Type</th>\n",
       "      <th>Min Value</th>\n",
       "      <th>%25</th>\n",
       "      <th>Median</th>\n",
       "      <th>%75</th>\n",
       "      <th>Max Value</th>\n",
       "      <th>Mean</th>\n",
       "      <th>Std Dev</th>\n",
       "      <th>Top Value</th>\n",
       "      <th>Top Value Frequency</th>\n",
       "      <th>Sample Values</th>\n",
       "    </tr>\n",
       "  </thead>\n",
       "  <tbody>\n",
       "    <tr>\n",
       "      <th>0</th>\n",
       "      <td>Age</td>\n",
       "      <td>0</td>\n",
       "      <td>50</td>\n",
       "      <td>int64</td>\n",
       "      <td>28.0</td>\n",
       "      <td>47.00</td>\n",
       "      <td>54.0</td>\n",
       "      <td>60.0</td>\n",
       "      <td>77.0</td>\n",
       "      <td>53.510893</td>\n",
       "      <td>9.432617</td>\n",
       "      <td>None</td>\n",
       "      <td>NaN</td>\n",
       "      <td>[53, 43, 55, 74, 60]</td>\n",
       "    </tr>\n",
       "    <tr>\n",
       "      <th>1</th>\n",
       "      <td>Sex</td>\n",
       "      <td>0</td>\n",
       "      <td>2</td>\n",
       "      <td>object</td>\n",
       "      <td>NaN</td>\n",
       "      <td>NaN</td>\n",
       "      <td>NaN</td>\n",
       "      <td>NaN</td>\n",
       "      <td>NaN</td>\n",
       "      <td>NaN</td>\n",
       "      <td>NaN</td>\n",
       "      <td>M</td>\n",
       "      <td>725.0</td>\n",
       "      <td>[M, F, M, F, M]</td>\n",
       "    </tr>\n",
       "    <tr>\n",
       "      <th>2</th>\n",
       "      <td>ChestPainType</td>\n",
       "      <td>0</td>\n",
       "      <td>4</td>\n",
       "      <td>object</td>\n",
       "      <td>NaN</td>\n",
       "      <td>NaN</td>\n",
       "      <td>NaN</td>\n",
       "      <td>NaN</td>\n",
       "      <td>NaN</td>\n",
       "      <td>NaN</td>\n",
       "      <td>NaN</td>\n",
       "      <td>ASY</td>\n",
       "      <td>496.0</td>\n",
       "      <td>[ASY, ASY, ASY, NAP, ASY]</td>\n",
       "    </tr>\n",
       "    <tr>\n",
       "      <th>3</th>\n",
       "      <td>RestingBP</td>\n",
       "      <td>0</td>\n",
       "      <td>67</td>\n",
       "      <td>int64</td>\n",
       "      <td>0.0</td>\n",
       "      <td>120.00</td>\n",
       "      <td>130.0</td>\n",
       "      <td>140.0</td>\n",
       "      <td>200.0</td>\n",
       "      <td>132.396514</td>\n",
       "      <td>18.514154</td>\n",
       "      <td>None</td>\n",
       "      <td>NaN</td>\n",
       "      <td>[120, 112, 160, 120, 128]</td>\n",
       "    </tr>\n",
       "    <tr>\n",
       "      <th>4</th>\n",
       "      <td>Cholesterol</td>\n",
       "      <td>0</td>\n",
       "      <td>222</td>\n",
       "      <td>int64</td>\n",
       "      <td>0.0</td>\n",
       "      <td>173.25</td>\n",
       "      <td>223.0</td>\n",
       "      <td>267.0</td>\n",
       "      <td>603.0</td>\n",
       "      <td>198.799564</td>\n",
       "      <td>109.384145</td>\n",
       "      <td>None</td>\n",
       "      <td>NaN</td>\n",
       "      <td>[199, 259, 283, 250, 277]</td>\n",
       "    </tr>\n",
       "    <tr>\n",
       "      <th>5</th>\n",
       "      <td>FastingBS</td>\n",
       "      <td>0</td>\n",
       "      <td>2</td>\n",
       "      <td>int64</td>\n",
       "      <td>0.0</td>\n",
       "      <td>0.00</td>\n",
       "      <td>0.0</td>\n",
       "      <td>0.0</td>\n",
       "      <td>1.0</td>\n",
       "      <td>0.233115</td>\n",
       "      <td>0.423046</td>\n",
       "      <td>None</td>\n",
       "      <td>NaN</td>\n",
       "      <td>[1, 1, 1, 0, 0]</td>\n",
       "    </tr>\n",
       "    <tr>\n",
       "      <th>6</th>\n",
       "      <td>RestingECG</td>\n",
       "      <td>0</td>\n",
       "      <td>3</td>\n",
       "      <td>object</td>\n",
       "      <td>NaN</td>\n",
       "      <td>NaN</td>\n",
       "      <td>NaN</td>\n",
       "      <td>NaN</td>\n",
       "      <td>NaN</td>\n",
       "      <td>NaN</td>\n",
       "      <td>NaN</td>\n",
       "      <td>Normal</td>\n",
       "      <td>552.0</td>\n",
       "      <td>[Normal, Normal, ST, Normal, Normal]</td>\n",
       "    </tr>\n",
       "    <tr>\n",
       "      <th>7</th>\n",
       "      <td>MaxHR</td>\n",
       "      <td>0</td>\n",
       "      <td>119</td>\n",
       "      <td>int64</td>\n",
       "      <td>60.0</td>\n",
       "      <td>120.00</td>\n",
       "      <td>138.0</td>\n",
       "      <td>156.0</td>\n",
       "      <td>202.0</td>\n",
       "      <td>136.809368</td>\n",
       "      <td>25.460334</td>\n",
       "      <td>None</td>\n",
       "      <td>NaN</td>\n",
       "      <td>[146, 135, 169, 63, 142]</td>\n",
       "    </tr>\n",
       "    <tr>\n",
       "      <th>8</th>\n",
       "      <td>ExerciseAngina</td>\n",
       "      <td>0</td>\n",
       "      <td>2</td>\n",
       "      <td>object</td>\n",
       "      <td>NaN</td>\n",
       "      <td>NaN</td>\n",
       "      <td>NaN</td>\n",
       "      <td>NaN</td>\n",
       "      <td>NaN</td>\n",
       "      <td>NaN</td>\n",
       "      <td>NaN</td>\n",
       "      <td>N</td>\n",
       "      <td>547.0</td>\n",
       "      <td>[N, N, N, N, Y]</td>\n",
       "    </tr>\n",
       "    <tr>\n",
       "      <th>9</th>\n",
       "      <td>Oldpeak</td>\n",
       "      <td>0</td>\n",
       "      <td>53</td>\n",
       "      <td>float64</td>\n",
       "      <td>-2.6</td>\n",
       "      <td>0.00</td>\n",
       "      <td>0.6</td>\n",
       "      <td>1.5</td>\n",
       "      <td>6.2</td>\n",
       "      <td>0.887364</td>\n",
       "      <td>1.066570</td>\n",
       "      <td>None</td>\n",
       "      <td>NaN</td>\n",
       "      <td>[1.0, 0.0, 0.0, 0.0, 2.9]</td>\n",
       "    </tr>\n",
       "    <tr>\n",
       "      <th>10</th>\n",
       "      <td>ST_Slope</td>\n",
       "      <td>0</td>\n",
       "      <td>3</td>\n",
       "      <td>object</td>\n",
       "      <td>NaN</td>\n",
       "      <td>NaN</td>\n",
       "      <td>NaN</td>\n",
       "      <td>NaN</td>\n",
       "      <td>NaN</td>\n",
       "      <td>NaN</td>\n",
       "      <td>NaN</td>\n",
       "      <td>Flat</td>\n",
       "      <td>460.0</td>\n",
       "      <td>[Flat, Flat, Up, Flat, Up]</td>\n",
       "    </tr>\n",
       "    <tr>\n",
       "      <th>11</th>\n",
       "      <td>HeartDisease</td>\n",
       "      <td>0</td>\n",
       "      <td>2</td>\n",
       "      <td>int64</td>\n",
       "      <td>0.0</td>\n",
       "      <td>0.00</td>\n",
       "      <td>1.0</td>\n",
       "      <td>1.0</td>\n",
       "      <td>1.0</td>\n",
       "      <td>0.553377</td>\n",
       "      <td>0.497414</td>\n",
       "      <td>None</td>\n",
       "      <td>NaN</td>\n",
       "      <td>[1, 0, 1, 0, 1]</td>\n",
       "    </tr>\n",
       "  </tbody>\n",
       "</table>\n",
       "</div>"
      ],
      "text/plain": [
       "            Column  Missing Values  Unique Count Data Type  Min Value     %25  \\\n",
       "0              Age               0            50     int64       28.0   47.00   \n",
       "1              Sex               0             2    object        NaN     NaN   \n",
       "2    ChestPainType               0             4    object        NaN     NaN   \n",
       "3        RestingBP               0            67     int64        0.0  120.00   \n",
       "4      Cholesterol               0           222     int64        0.0  173.25   \n",
       "5        FastingBS               0             2     int64        0.0    0.00   \n",
       "6       RestingECG               0             3    object        NaN     NaN   \n",
       "7            MaxHR               0           119     int64       60.0  120.00   \n",
       "8   ExerciseAngina               0             2    object        NaN     NaN   \n",
       "9          Oldpeak               0            53   float64       -2.6    0.00   \n",
       "10        ST_Slope               0             3    object        NaN     NaN   \n",
       "11    HeartDisease               0             2     int64        0.0    0.00   \n",
       "\n",
       "    Median    %75  Max Value        Mean     Std Dev Top Value  \\\n",
       "0     54.0   60.0       77.0   53.510893    9.432617      None   \n",
       "1      NaN    NaN        NaN         NaN         NaN         M   \n",
       "2      NaN    NaN        NaN         NaN         NaN       ASY   \n",
       "3    130.0  140.0      200.0  132.396514   18.514154      None   \n",
       "4    223.0  267.0      603.0  198.799564  109.384145      None   \n",
       "5      0.0    0.0        1.0    0.233115    0.423046      None   \n",
       "6      NaN    NaN        NaN         NaN         NaN    Normal   \n",
       "7    138.0  156.0      202.0  136.809368   25.460334      None   \n",
       "8      NaN    NaN        NaN         NaN         NaN         N   \n",
       "9      0.6    1.5        6.2    0.887364    1.066570      None   \n",
       "10     NaN    NaN        NaN         NaN         NaN      Flat   \n",
       "11     1.0    1.0        1.0    0.553377    0.497414      None   \n",
       "\n",
       "    Top Value Frequency                         Sample Values  \n",
       "0                   NaN                  [53, 43, 55, 74, 60]  \n",
       "1                 725.0                       [M, F, M, F, M]  \n",
       "2                 496.0             [ASY, ASY, ASY, NAP, ASY]  \n",
       "3                   NaN             [120, 112, 160, 120, 128]  \n",
       "4                   NaN             [199, 259, 283, 250, 277]  \n",
       "5                   NaN                       [1, 1, 1, 0, 0]  \n",
       "6                 552.0  [Normal, Normal, ST, Normal, Normal]  \n",
       "7                   NaN              [146, 135, 169, 63, 142]  \n",
       "8                 547.0                       [N, N, N, N, Y]  \n",
       "9                   NaN             [1.0, 0.0, 0.0, 0.0, 2.9]  \n",
       "10                460.0            [Flat, Flat, Up, Flat, Up]  \n",
       "11                  NaN                       [1, 0, 1, 0, 1]  "
      ]
     },
     "execution_count": 37,
     "metadata": {},
     "output_type": "execute_result"
    }
   ],
   "source": [
    "summary_df = create_summary_df(df)\n",
    "\n",
    "shape_of_df(df)\n",
    "sum_of_duplicate(df)\n",
    "summary_df"
   ]
  },
  {
   "cell_type": "markdown",
   "metadata": {},
   "source": [
    "- There are no duplicated rows.\n",
    "- Seems there are no missing values but still we need the check categorical features for values like ' ', '?' etc.\n",
    "- There are no unnecessary columns.\n",
    "- <b>A resting blood pressure of 0 is not possible in a living human being and it is not possible for a human to have a serum cholesterol level of 0 mg/dL. We have to deal with them.</b>"
   ]
  },
  {
   "cell_type": "markdown",
   "metadata": {},
   "source": [
    "-----------------------------------"
   ]
  },
  {
   "cell_type": "markdown",
   "metadata": {},
   "source": [
    "# 2. Data Preprocessing"
   ]
  },
  {
   "cell_type": "markdown",
   "metadata": {},
   "source": [
    "### 2.1 Categorical and Numerical Features\n",
    "\n",
    "If we look at the summary, the most unique feature is the chest pain type and it is 4. So we can set threshold to 5.\n",
    "\n",
    "We can simply split features into numerical and categorical by using for loop and lenght of every features unique values."
   ]
  },
  {
   "cell_type": "code",
   "execution_count": 38,
   "metadata": {},
   "outputs": [],
   "source": [
    "def split_features(dataframe):\n",
    "\n",
    "    numerical = []\n",
    "    categorical = []\n",
    "\n",
    "    for col in dataframe.drop('HeartDisease', axis=1).columns:\n",
    "        if len(dataframe[col].unique()) > 5:\n",
    "            numerical.append(col)\n",
    "        else:\n",
    "            categorical.append(col)\n",
    "    return numerical, categorical\n",
    "\n",
    "\n",
    "def print_categorical_features(dataframe, categorical_features):\n",
    "\n",
    "    for col in dataframe[categorical_features].columns:\n",
    "        print(f'{col} column unique values: {dataframe[col].unique()}')"
   ]
  },
  {
   "cell_type": "code",
   "execution_count": 39,
   "metadata": {},
   "outputs": [
    {
     "name": "stdout",
     "output_type": "stream",
     "text": [
      "Sex column unique values: ['M' 'F']\n",
      "ChestPainType column unique values: ['ATA' 'NAP' 'ASY' 'TA']\n",
      "FastingBS column unique values: [0 1]\n",
      "RestingECG column unique values: ['Normal' 'ST' 'LVH']\n",
      "ExerciseAngina column unique values: ['N' 'Y']\n",
      "ST_Slope column unique values: ['Up' 'Flat' 'Down']\n"
     ]
    }
   ],
   "source": [
    "numerical_features, categorical_features = split_features(df)\n",
    "\n",
    "print_categorical_features(df, categorical_features)"
   ]
  },
  {
   "cell_type": "markdown",
   "metadata": {},
   "source": [
    "### 2.2 Dealing with Incorrect Values"
   ]
  },
  {
   "cell_type": "code",
   "execution_count": 40,
   "metadata": {},
   "outputs": [],
   "source": [
    "def incorrect_values_count_and_percentage(dataframe, column, incorrect_value):\n",
    "    print(f'{column} has {dataframe.column.value_counts()[incorrect_value]} zero values and it is %{round(dataframe.column.value_counts()[incorrect_value]/len(dataframe.column) * 100,2)} of total')"
   ]
  },
  {
   "cell_type": "code",
   "execution_count": 41,
   "metadata": {},
   "outputs": [
    {
     "name": "stdout",
     "output_type": "stream",
     "text": [
      "RestingBP has 1 zero values and it is %0.11 of total\n",
      "Cholesterol has 172 zero values and it is %18.74 of total\n"
     ]
    }
   ],
   "source": [
    "print(f'RestingBP has {df.RestingBP.value_counts()[0]} zero values and it is %{round(df.RestingBP.value_counts()[0]/len(df.RestingBP) * 100,2)} of total')\n",
    "print(f'Cholesterol has {df.Cholesterol.value_counts()[0]} zero values and it is %{round(df.Cholesterol.value_counts()[0]/len(df.Cholesterol) * 100,2)} of total')"
   ]
  },
  {
   "cell_type": "code",
   "execution_count": 42,
   "metadata": {},
   "outputs": [],
   "source": [
    "# #Replace restingBP 0 value with mean\n",
    "df['RestingBP'] = df['RestingBP'].replace(0,df['RestingBP'].mean())"
   ]
  },
  {
   "cell_type": "markdown",
   "metadata": {},
   "source": [
    "<b>If we will look many scientific researches we can clearly say that cholesterol is positive correleted with heart disease.</b>\n",
    "\n",
    "Now we will try several methods to get that positive correlation between cholesterol and heart disease but we will be careful not to influence too much the correlation between heart disease and other features.\n",
    "\n",
    "- Drop 0 values from dataset.\n",
    "- Imputation with mean or median after replace 0 values with np.nan.\n",
    "- Imputation with KNN imputer."
   ]
  },
  {
   "cell_type": "code",
   "execution_count": 43,
   "metadata": {},
   "outputs": [],
   "source": [
    "# Calculating correlation before applying any method\n",
    "before_corr = round(df['Cholesterol'].corr(df['HeartDisease']),3)"
   ]
  },
  {
   "cell_type": "markdown",
   "metadata": {},
   "source": [
    "##### 2.2.1 Dropping 0 values"
   ]
  },
  {
   "cell_type": "code",
   "execution_count": 44,
   "metadata": {},
   "outputs": [],
   "source": [
    "drop_corr = round(df['Cholesterol'].replace(0, np.nan).dropna().corr(df['HeartDisease']),3)"
   ]
  },
  {
   "cell_type": "markdown",
   "metadata": {},
   "source": [
    "##### 2.2.2 Fill with mean"
   ]
  },
  {
   "cell_type": "code",
   "execution_count": 45,
   "metadata": {},
   "outputs": [],
   "source": [
    "mean_corr = round(df['Cholesterol'].replace(0, np.nan).fillna(df['Cholesterol'].mean()).corr(df['HeartDisease']),3)"
   ]
  },
  {
   "cell_type": "markdown",
   "metadata": {},
   "source": [
    "##### 2.2.3 Fill with median"
   ]
  },
  {
   "cell_type": "code",
   "execution_count": 46,
   "metadata": {},
   "outputs": [],
   "source": [
    "median_corr = round(df['Cholesterol'].replace(0, np.nan).fillna(df['Cholesterol'].median()).corr(df['HeartDisease']),3)"
   ]
  },
  {
   "cell_type": "markdown",
   "metadata": {},
   "source": [
    "##### 2.2.4 KNN imputation"
   ]
  },
  {
   "cell_type": "code",
   "execution_count": 48,
   "metadata": {},
   "outputs": [],
   "source": [
    "temp_df = df.copy()\n",
    "temp_df['Cholesterol'].replace(0, np.nan, inplace=True)\n",
    "\n",
    "knn_imputer = KNNImputer(missing_values=np.nan, n_neighbors=5)\n",
    "temp_df[['Cholesterol']] = knn_imputer.fit_transform(temp_df[['Cholesterol']])\n",
    "knn_corr = round(temp_df['Cholesterol'].corr(temp_df['HeartDisease']),3)"
   ]
  },
  {
   "cell_type": "markdown",
   "metadata": {},
   "source": [
    "##### 2.2.5 Comparing Results"
   ]
  },
  {
   "cell_type": "code",
   "execution_count": 49,
   "metadata": {},
   "outputs": [
    {
     "data": {
      "text/html": [
       "<div>\n",
       "<style scoped>\n",
       "    .dataframe tbody tr th:only-of-type {\n",
       "        vertical-align: middle;\n",
       "    }\n",
       "\n",
       "    .dataframe tbody tr th {\n",
       "        vertical-align: top;\n",
       "    }\n",
       "\n",
       "    .dataframe thead th {\n",
       "        text-align: right;\n",
       "    }\n",
       "</style>\n",
       "<table border=\"1\" class=\"dataframe\">\n",
       "  <thead>\n",
       "    <tr style=\"text-align: right;\">\n",
       "      <th></th>\n",
       "      <th>before_corr</th>\n",
       "      <th>corr_after_drop</th>\n",
       "      <th>corr_after_mean</th>\n",
       "      <th>corr_after_median</th>\n",
       "      <th>corr_after_knn</th>\n",
       "    </tr>\n",
       "  </thead>\n",
       "  <tbody>\n",
       "    <tr>\n",
       "      <th>0</th>\n",
       "      <td>-0.233</td>\n",
       "      <td>0.104</td>\n",
       "      <td>-0.012</td>\n",
       "      <td>0.043</td>\n",
       "      <td>0.094</td>\n",
       "    </tr>\n",
       "  </tbody>\n",
       "</table>\n",
       "</div>"
      ],
      "text/plain": [
       "   before_corr  corr_after_drop  corr_after_mean  corr_after_median  \\\n",
       "0       -0.233            0.104           -0.012              0.043   \n",
       "\n",
       "   corr_after_knn  \n",
       "0           0.094  "
      ]
     },
     "execution_count": 49,
     "metadata": {},
     "output_type": "execute_result"
    }
   ],
   "source": [
    "# Create correlation df to show each correlation after applying methods\n",
    "corr_df = pd.DataFrame(data=[[before_corr, drop_corr,mean_corr,median_corr,knn_corr]], columns=['before_corr','corr_after_drop','corr_after_mean','corr_after_median','corr_after_knn'])\n",
    "corr_df"
   ]
  },
  {
   "cell_type": "markdown",
   "metadata": {},
   "source": [
    "<span>As we can see dropping 0 values makes the correlation between cholesterol and heart disease much better of all of methods. 0.104 is not good enough but it is what we have for now.</span><b><span style=';color:red'>But does dropping zero values(means dropping 172 rows) affect other correlation?</span></b>"
   ]
  },
  {
   "cell_type": "code",
   "execution_count": 53,
   "metadata": {},
   "outputs": [],
   "source": [
    "# Copy df to two different new df\n",
    "df_before_drop = df.copy()\n",
    "df_after_drop = df.copy()\n",
    "\n",
    "# Dropping 0 values in Cholesterol feature in after df\n",
    "df_after_drop['Cholesterol'] = df_after_drop['Cholesterol'].replace(0, np.nan)\n",
    "df_after_drop.dropna(inplace=True)\n",
    "\n",
    "# Create function to apply one hot encoding for categorical features\n",
    "def encoder(df):\n",
    "    transformer = make_column_transformer(\n",
    "    (OneHotEncoder(handle_unknown='ignore'),categorical_features))\n",
    "    transformed = transformer.fit_transform(df)\n",
    "    transformed_df = pd.DataFrame(transformed, columns=transformer.get_feature_names_out())\n",
    "    transformed_df.index = df.index\n",
    "\n",
    "    df = pd.concat([df, transformed_df], axis=1)\n",
    "    df.drop(categorical_features, axis=1, inplace=True)\n",
    "    \n",
    "    # Renaming columns\n",
    "    new_columns = []\n",
    "    for i,col in enumerate(df.columns):\n",
    "        if 'onehotencoder__' in col:\n",
    "            col = col.replace('onehotencoder__','')\n",
    "            new_columns.append(col)\n",
    "        else:\n",
    "            new_columns.append(col)\n",
    "\n",
    "    df.columns = new_columns\n",
    "    return df\n",
    "    \n",
    "df_before_drop = encoder(df_before_drop)\n",
    "df_after_drop = encoder(df_after_drop)\n",
    "\n",
    "# Find correlation between HeartDisease and every other features in both df\n",
    "corr_before = round(df_before_drop.corr().sort_values('HeartDisease',ascending=False).iloc[1:, :]['HeartDisease'],3)\n",
    "corr_after = round(df_after_drop.corr().sort_values('HeartDisease',ascending=False).iloc[1:, :]['HeartDisease'],3)"
   ]
  },
  {
   "cell_type": "code",
   "execution_count": 54,
   "metadata": {},
   "outputs": [
    {
     "data": {
      "text/html": [
       "<div>\n",
       "<style scoped>\n",
       "    .dataframe tbody tr th:only-of-type {\n",
       "        vertical-align: middle;\n",
       "    }\n",
       "\n",
       "    .dataframe tbody tr th {\n",
       "        vertical-align: top;\n",
       "    }\n",
       "\n",
       "    .dataframe thead th {\n",
       "        text-align: right;\n",
       "    }\n",
       "</style>\n",
       "<table border=\"1\" class=\"dataframe\">\n",
       "  <thead>\n",
       "    <tr style=\"text-align: right;\">\n",
       "      <th></th>\n",
       "      <th>corr_before_drop_0</th>\n",
       "      <th>corr_after_drop_0</th>\n",
       "      <th>difference</th>\n",
       "    </tr>\n",
       "  </thead>\n",
       "  <tbody>\n",
       "    <tr>\n",
       "      <th>ST_Slope_Flat</th>\n",
       "      <td>0.554</td>\n",
       "      <td>0.592</td>\n",
       "      <td>0.038</td>\n",
       "    </tr>\n",
       "    <tr>\n",
       "      <th>ChestPainType_ASY</th>\n",
       "      <td>0.517</td>\n",
       "      <td>0.523</td>\n",
       "      <td>0.006</td>\n",
       "    </tr>\n",
       "    <tr>\n",
       "      <th>ExerciseAngina_Y</th>\n",
       "      <td>0.494</td>\n",
       "      <td>0.552</td>\n",
       "      <td>0.058</td>\n",
       "    </tr>\n",
       "    <tr>\n",
       "      <th>Oldpeak</th>\n",
       "      <td>0.404</td>\n",
       "      <td>0.496</td>\n",
       "      <td>0.092</td>\n",
       "    </tr>\n",
       "    <tr>\n",
       "      <th>Sex_M</th>\n",
       "      <td>0.305</td>\n",
       "      <td>0.293</td>\n",
       "      <td>-0.012</td>\n",
       "    </tr>\n",
       "    <tr>\n",
       "      <th>Age</th>\n",
       "      <td>0.282</td>\n",
       "      <td>0.299</td>\n",
       "      <td>0.017</td>\n",
       "    </tr>\n",
       "    <tr>\n",
       "      <th>FastingBS_1</th>\n",
       "      <td>0.267</td>\n",
       "      <td>0.161</td>\n",
       "      <td>-0.106</td>\n",
       "    </tr>\n",
       "    <tr>\n",
       "      <th>ST_Slope_Down</th>\n",
       "      <td>0.123</td>\n",
       "      <td>0.132</td>\n",
       "      <td>0.009</td>\n",
       "    </tr>\n",
       "    <tr>\n",
       "      <th>RestingBP</th>\n",
       "      <td>0.118</td>\n",
       "      <td>0.173</td>\n",
       "      <td>0.055</td>\n",
       "    </tr>\n",
       "    <tr>\n",
       "      <th>RestingECG_ST</th>\n",
       "      <td>0.103</td>\n",
       "      <td>0.096</td>\n",
       "      <td>-0.007</td>\n",
       "    </tr>\n",
       "    <tr>\n",
       "      <th>RestingECG_LVH</th>\n",
       "      <td>0.011</td>\n",
       "      <td>0.070</td>\n",
       "      <td>0.059</td>\n",
       "    </tr>\n",
       "    <tr>\n",
       "      <th>ChestPainType_TA</th>\n",
       "      <td>-0.055</td>\n",
       "      <td>-0.054</td>\n",
       "      <td>0.001</td>\n",
       "    </tr>\n",
       "    <tr>\n",
       "      <th>RestingECG_Normal</th>\n",
       "      <td>-0.092</td>\n",
       "      <td>-0.133</td>\n",
       "      <td>-0.041</td>\n",
       "    </tr>\n",
       "    <tr>\n",
       "      <th>ChestPainType_NAP</th>\n",
       "      <td>-0.213</td>\n",
       "      <td>-0.222</td>\n",
       "      <td>-0.009</td>\n",
       "    </tr>\n",
       "    <tr>\n",
       "      <th>Cholesterol</th>\n",
       "      <td>-0.233</td>\n",
       "      <td>0.104</td>\n",
       "      <td>0.337</td>\n",
       "    </tr>\n",
       "    <tr>\n",
       "      <th>FastingBS_0</th>\n",
       "      <td>-0.267</td>\n",
       "      <td>-0.161</td>\n",
       "      <td>0.106</td>\n",
       "    </tr>\n",
       "    <tr>\n",
       "      <th>Sex_F</th>\n",
       "      <td>-0.305</td>\n",
       "      <td>-0.293</td>\n",
       "      <td>0.012</td>\n",
       "    </tr>\n",
       "    <tr>\n",
       "      <th>MaxHR</th>\n",
       "      <td>-0.400</td>\n",
       "      <td>-0.377</td>\n",
       "      <td>0.023</td>\n",
       "    </tr>\n",
       "    <tr>\n",
       "      <th>ChestPainType_ATA</th>\n",
       "      <td>-0.402</td>\n",
       "      <td>-0.376</td>\n",
       "      <td>0.026</td>\n",
       "    </tr>\n",
       "    <tr>\n",
       "      <th>ExerciseAngina_N</th>\n",
       "      <td>-0.494</td>\n",
       "      <td>-0.552</td>\n",
       "      <td>-0.058</td>\n",
       "    </tr>\n",
       "    <tr>\n",
       "      <th>ST_Slope_Up</th>\n",
       "      <td>-0.622</td>\n",
       "      <td>-0.654</td>\n",
       "      <td>-0.032</td>\n",
       "    </tr>\n",
       "  </tbody>\n",
       "</table>\n",
       "</div>"
      ],
      "text/plain": [
       "                   corr_before_drop_0  corr_after_drop_0  difference\n",
       "ST_Slope_Flat                   0.554              0.592       0.038\n",
       "ChestPainType_ASY               0.517              0.523       0.006\n",
       "ExerciseAngina_Y                0.494              0.552       0.058\n",
       "Oldpeak                         0.404              0.496       0.092\n",
       "Sex_M                           0.305              0.293      -0.012\n",
       "Age                             0.282              0.299       0.017\n",
       "FastingBS_1                     0.267              0.161      -0.106\n",
       "ST_Slope_Down                   0.123              0.132       0.009\n",
       "RestingBP                       0.118              0.173       0.055\n",
       "RestingECG_ST                   0.103              0.096      -0.007\n",
       "RestingECG_LVH                  0.011              0.070       0.059\n",
       "ChestPainType_TA               -0.055             -0.054       0.001\n",
       "RestingECG_Normal              -0.092             -0.133      -0.041\n",
       "ChestPainType_NAP              -0.213             -0.222      -0.009\n",
       "Cholesterol                    -0.233              0.104       0.337\n",
       "FastingBS_0                    -0.267             -0.161       0.106\n",
       "Sex_F                          -0.305             -0.293       0.012\n",
       "MaxHR                          -0.400             -0.377       0.023\n",
       "ChestPainType_ATA              -0.402             -0.376       0.026\n",
       "ExerciseAngina_N               -0.494             -0.552      -0.058\n",
       "ST_Slope_Up                    -0.622             -0.654      -0.032"
      ]
     },
     "execution_count": 54,
     "metadata": {},
     "output_type": "execute_result"
    }
   ],
   "source": [
    "# Combining before_corr, after_corr and difference between them into dataframe\n",
    "difference_df = pd.concat([corr_before, corr_after,(corr_after - corr_before)], axis=1)\n",
    "difference_df.columns = ['corr_before_drop_0','corr_after_drop_0','difference']\n",
    "difference_df"
   ]
  },
  {
   "cell_type": "markdown",
   "metadata": {},
   "source": [
    "##### 2.2.6 Final process"
   ]
  },
  {
   "cell_type": "code",
   "execution_count": 55,
   "metadata": {},
   "outputs": [],
   "source": [
    "# We decided to drop all zero values in cholesterol so we will do it for final process\n",
    "df['Cholesterol'].replace(0, np.nan, inplace=True)\n",
    "df.dropna(inplace=True)"
   ]
  },
  {
   "cell_type": "markdown",
   "metadata": {},
   "source": [
    "### 2.3 Encoding Categorical Features"
   ]
  },
  {
   "cell_type": "code",
   "execution_count": 57,
   "metadata": {},
   "outputs": [],
   "source": [
    "# Create make_column_transformer object\n",
    "transformer = make_column_transformer(\n",
    "    (OneHotEncoder(handle_unknown='ignore'),categorical_features))"
   ]
  },
  {
   "cell_type": "code",
   "execution_count": 58,
   "metadata": {},
   "outputs": [],
   "source": [
    "# Create a new dataframe with transformed features and join the new dataframe with original dataframe\n",
    "# Also drop encoded categorical columns\n",
    "transformed = transformer.fit_transform(df)\n",
    "transformed_df = pd.DataFrame(transformed, columns=transformer.get_feature_names_out())\n",
    "transformed_df.index = df.index\n",
    "\n",
    "df = pd.concat([df, transformed_df], axis=1)\n",
    "df.drop(categorical_features, axis=1, inplace=True)"
   ]
  },
  {
   "cell_type": "code",
   "execution_count": 59,
   "metadata": {},
   "outputs": [
    {
     "data": {
      "text/plain": [
       "Index(['Age', 'RestingBP', 'Cholesterol', 'MaxHR', 'Oldpeak', 'HeartDisease',\n",
       "       'Sex_F', 'Sex_M', 'ChestPainType_ASY', 'ChestPainType_ATA',\n",
       "       'ChestPainType_NAP', 'ChestPainType_TA', 'FastingBS_0', 'FastingBS_1',\n",
       "       'RestingECG_LVH', 'RestingECG_Normal', 'RestingECG_ST',\n",
       "       'ExerciseAngina_N', 'ExerciseAngina_Y', 'ST_Slope_Down',\n",
       "       'ST_Slope_Flat', 'ST_Slope_Up'],\n",
       "      dtype='object')"
      ]
     },
     "execution_count": 59,
     "metadata": {},
     "output_type": "execute_result"
    }
   ],
   "source": [
    "# Renaming columns\n",
    "new_columns = []\n",
    "for i,col in enumerate(df.columns):\n",
    "    if 'onehotencoder__' in col:\n",
    "        col = col.replace('onehotencoder__','')\n",
    "        new_columns.append(col)\n",
    "    else:\n",
    "        new_columns.append(col)\n",
    "        \n",
    "df.columns = new_columns\n",
    "df.columns"
   ]
  },
  {
   "cell_type": "markdown",
   "metadata": {},
   "source": [
    "### 2.4 Train-Test Sets Split"
   ]
  },
  {
   "cell_type": "code",
   "execution_count": 62,
   "metadata": {},
   "outputs": [],
   "source": [
    "X = df.drop('HeartDisease',axis=1)\n",
    "y = df['HeartDisease']\n",
    "\n",
    "X_train, X_test, y_train, y_test = train_test_split(X, y, test_size=0.2, random_state=42)"
   ]
  },
  {
   "cell_type": "markdown",
   "metadata": {},
   "source": [
    "### 2.5 Feature Scaling"
   ]
  },
  {
   "cell_type": "code",
   "execution_count": 66,
   "metadata": {},
   "outputs": [],
   "source": [
    "def Standard_Scaler(df, numerical_features):\n",
    "    scaler = StandardScaler()\n",
    "    df[numerical_features] = scaler.fit_transform(df[numerical_features])\n",
    "    \n",
    "    return df\n",
    "\n",
    "X_train = Standard_Scaler(X_train, numerical_features)\n",
    "X_test = Standard_Scaler(X_test, numerical_features)"
   ]
  },
  {
   "cell_type": "markdown",
   "metadata": {},
   "source": [
    "### 2.6 Export Train-Test Sets"
   ]
  },
  {
   "cell_type": "code",
   "execution_count": 74,
   "metadata": {},
   "outputs": [],
   "source": [
    "X_train.to_csv('../data/X_train.csv', index=False)\n",
    "X_test.to_csv('../data/X_test.csv', index=False)\n",
    "y_train.to_csv('../data/y_train.csv', index=False)\n",
    "y_test.to_csv('../data/y_test.csv', index=False)"
   ]
  }
 ],
 "metadata": {
  "kernelspec": {
   "display_name": "Python 3",
   "language": "python",
   "name": "python3"
  },
  "language_info": {
   "codemirror_mode": {
    "name": "ipython",
    "version": 3
   },
   "file_extension": ".py",
   "mimetype": "text/x-python",
   "name": "python",
   "nbconvert_exporter": "python",
   "pygments_lexer": "ipython3",
   "version": "3.12.1"
  }
 },
 "nbformat": 4,
 "nbformat_minor": 2
}
